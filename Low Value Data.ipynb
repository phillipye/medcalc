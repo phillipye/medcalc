{
 "cells": [
  {
   "cell_type": "markdown",
   "metadata": {},
   "source": [
    "# Collecting Medicare DRG Payment Data\n",
    "\n",
    "Using data extracted from: \n",
    "- https://jamanetwork.com/journals/jamainternalmedicine/fullarticle/2442504\n",
    "  - https://jamanetwork.com/data/Journals/INTEMED/934633/IOI150074supp1_prod.pdf"
   ]
  },
  {
   "cell_type": "code",
   "execution_count": 3,
   "metadata": {},
   "outputs": [],
   "source": [
    "import pandas as pd"
   ]
  },
  {
   "cell_type": "code",
   "execution_count": 4,
   "metadata": {},
   "outputs": [
    {
     "data": {
      "text/html": [
       "<div>\n",
       "<style>\n",
       "    .dataframe thead tr:only-child th {\n",
       "        text-align: right;\n",
       "    }\n",
       "\n",
       "    .dataframe thead th {\n",
       "        text-align: left;\n",
       "    }\n",
       "\n",
       "    .dataframe tbody tr th {\n",
       "        vertical-align: top;\n",
       "    }\n",
       "</style>\n",
       "<table border=\"1\" class=\"dataframe\">\n",
       "  <thead>\n",
       "    <tr style=\"text-align: right;\">\n",
       "      <th></th>\n",
       "      <th>Qualifications</th>\n",
       "      <th>CPT Codes</th>\n",
       "      <th>Beneficiaries qualifying for potential use of service</th>\n",
       "    </tr>\n",
       "  </thead>\n",
       "  <tbody>\n",
       "    <tr>\n",
       "      <th>0</th>\n",
       "      <td>Cancer screening for patients with chronic kid...</td>\n",
       "      <td>77057 G0202 G0104 G0105 G0106 G0120 G0121 G012...</td>\n",
       "      <td>Patients with CKD receiving dialysis</td>\n",
       "    </tr>\n",
       "    <tr>\n",
       "      <th>1</th>\n",
       "      <td>Cervical cancer screening for women over age 65</td>\n",
       "      <td>G0123 G0124 G0141 G0143 G0144 G0145 G0147 G014...</td>\n",
       "      <td>Women over 65</td>\n",
       "    </tr>\n",
       "    <tr>\n",
       "      <th>2</th>\n",
       "      <td>Colorectal cancer screening for adults older t...</td>\n",
       "      <td>G0104 G0105 G0106 G0120 G0121 G0122 G0328 4533...</td>\n",
       "      <td>Patients over 75</td>\n",
       "    </tr>\n",
       "    <tr>\n",
       "      <th>3</th>\n",
       "      <td>Prostate-specific antigen (PSA) testing for me...</td>\n",
       "      <td>G0103 84152 84153 84154</td>\n",
       "      <td>Men over 75</td>\n",
       "    </tr>\n",
       "    <tr>\n",
       "      <th>4</th>\n",
       "      <td>Bone mineral density testing at frequent inter...</td>\n",
       "      <td>76070 76071 76075 76076 76078 76977 77078 7707...</td>\n",
       "      <td>Patients with osteoporosis</td>\n",
       "    </tr>\n",
       "  </tbody>\n",
       "</table>\n",
       "</div>"
      ],
      "text/plain": [
       "                                      Qualifications  \\\n",
       "0  Cancer screening for patients with chronic kid...   \n",
       "1    Cervical cancer screening for women over age 65   \n",
       "2  Colorectal cancer screening for adults older t...   \n",
       "3  Prostate-specific antigen (PSA) testing for me...   \n",
       "4  Bone mineral density testing at frequent inter...   \n",
       "\n",
       "                                           CPT Codes  \\\n",
       "0  77057 G0202 G0104 G0105 G0106 G0120 G0121 G012...   \n",
       "1  G0123 G0124 G0141 G0143 G0144 G0145 G0147 G014...   \n",
       "2  G0104 G0105 G0106 G0120 G0121 G0122 G0328 4533...   \n",
       "3                            G0103 84152 84153 84154   \n",
       "4  76070 76071 76075 76076 76078 76977 77078 7707...   \n",
       "\n",
       "  Beneficiaries qualifying for potential use of service  \n",
       "0               Patients with CKD receiving dialysis     \n",
       "1                                      Women over 65     \n",
       "2                                   Patients over 75     \n",
       "3                                        Men over 75     \n",
       "4                         Patients with osteoporosis     "
      ]
     },
     "execution_count": 4,
     "metadata": {},
     "output_type": "execute_result"
    }
   ],
   "source": [
    "raw_data = pd.read_csv(\"low_value_cpt_codes.csv\")\n",
    "raw_data.columns = [x.strip() for x in raw_data.columns]\n",
    "raw_data.head(5)"
   ]
  },
  {
   "cell_type": "code",
   "execution_count": 8,
   "metadata": {},
   "outputs": [],
   "source": [
    "def tidy_split(df, column, sep, keep=False):\n",
    "    \"\"\"\n",
    "    Split the values of a column and expand so the new DataFrame has one split\n",
    "    value per row. Filters rows where the column is missing.\n",
    "\n",
    "    Params\n",
    "    ------\n",
    "    df : pandas.DataFrame\n",
    "        dataframe with the column to split and expand\n",
    "    column : str\n",
    "        the column to split and expand\n",
    "    sep : str\n",
    "        the string used to split the column's values\n",
    "    keep : bool\n",
    "        whether to retain the presplit value as it's own row\n",
    "\n",
    "    Returns\n",
    "    -------\n",
    "    pandas.DataFrame\n",
    "        Returns a dataframe with the same columns as `df`.\n",
    "    \"\"\"\n",
    "    indexes = list()\n",
    "    new_values = list()\n",
    "    df = df.dropna(subset=[column])\n",
    "    for i, presplit in enumerate(df[column].astype(str)):\n",
    "        values = presplit.split(sep)\n",
    "        if keep and len(values) > 1:\n",
    "            indexes.append(i)\n",
    "            new_values.append(presplit)\n",
    "        for value in values:\n",
    "            indexes.append(i)\n",
    "            new_values.append(value)\n",
    "    new_df = df.iloc[indexes, :].copy()\n",
    "    new_df[column] = new_values\n",
    "    return new_df"
   ]
  },
  {
   "cell_type": "code",
   "execution_count": 49,
   "metadata": {},
   "outputs": [],
   "source": [
    "clean_data = raw_data.copy(deep=True)\n",
    "clean_data = tidy_split(clean_data, \"CPT Codes\", \" \")\n",
    "output_data = pd.DataFrame(x.groupby('CPT Codes')['Qualifications'].apply(';'.join))\n",
    "output_data.to_json(\"low_value.json\", \"index\")"
   ]
  }
 ],
 "metadata": {
  "kernelspec": {
   "display_name": "Python 3",
   "language": "python",
   "name": "python3"
  },
  "language_info": {
   "codemirror_mode": {
    "name": "ipython",
    "version": 3
   },
   "file_extension": ".py",
   "mimetype": "text/x-python",
   "name": "python",
   "nbconvert_exporter": "python",
   "pygments_lexer": "ipython3",
   "version": "3.5.2"
  }
 },
 "nbformat": 4,
 "nbformat_minor": 2
}
